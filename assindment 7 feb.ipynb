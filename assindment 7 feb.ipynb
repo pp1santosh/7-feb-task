{
 "cells": [
  {
   "cell_type": "code",
   "execution_count": 54,
   "id": "181c6ca0-46fc-42cd-ad14-c9a3971508cd",
   "metadata": {},
   "outputs": [
    {
     "name": "stdin",
     "output_type": "stream",
     "text": [
      "enter the password raj\n"
     ]
    },
    {
     "name": "stdout",
     "output_type": "stream",
     "text": [
      "invalid password\n"
     ]
    }
   ],
   "source": [
    "#1 sol\n",
    "m=[ '@',' _ ','!',' #', '$',' %', '^',' &','*' ]\n",
    "q=['1','2','3','4','5','6','7','8','9']\n",
    "def password():\n",
    "    g=[]\n",
    "    count1=0\n",
    "    count2=0\n",
    "    count3=0\n",
    "    c= input(\"enter the password\")\n",
    "    if len(c)!=10:\n",
    "        print(\"invalid password\")\n",
    "    elif len(c)==10:\n",
    "        p=iter(c)   \n",
    "        for i in range(len(c)):\n",
    "            g.append(next(p))\n",
    "        for lo in g:\n",
    "            if lo.islower()==True:\n",
    "                count1+=1\n",
    "            if lo.isupper()==True:\n",
    "                count2+=1\n",
    "        if count1<2 or count2<2:\n",
    "            print(\"invalid password\")\n",
    "        elif any(v in q for v in g ) ==True:\n",
    "            for ut in g:\n",
    "                for ty in m:\n",
    "                    ut==ty\n",
    "                    count3+=1\n",
    "                    if count3>=3:\n",
    "                        print(\"correct password\")\n",
    "                        break\n",
    "password()                        "
   ]
  },
  {
   "cell_type": "code",
   "execution_count": 3,
   "id": "e720a723-dd80-497b-96e5-7cfa55df6d3c",
   "metadata": {},
   "outputs": [],
   "source": [
    "#2a.sol\n",
    "c=lambda x:x.isnumeric()"
   ]
  },
  {
   "cell_type": "code",
   "execution_count": 16,
   "id": "8336bf28-9053-4c2f-806b-836e68b0a773",
   "metadata": {},
   "outputs": [
    {
     "data": {
      "text/plain": [
       "[('orange', 80), ('mango', 99), ('grapes', 1000)]"
      ]
     },
     "execution_count": 16,
     "metadata": {},
     "output_type": "execute_result"
    }
   ],
   "source": [
    "#2b.sol\n",
    "lst= [(\"mango\",99),(\"orange\",80), (\"grapes\", 1000)]\n",
    "lst.sort(key=lambda num:num[1])\n",
    "lst"
   ]
  },
  {
   "cell_type": "code",
   "execution_count": 17,
   "id": "22eb9c31-655f-4286-bbec-f4c3c1d9a85c",
   "metadata": {},
   "outputs": [
    {
     "data": {
      "text/plain": [
       "16"
      ]
     },
     "execution_count": 17,
     "metadata": {},
     "output_type": "execute_result"
    }
   ],
   "source": [
    "#2csol\n",
    "c=lambda x:x**2\n",
    "c(4)"
   ]
  },
  {
   "cell_type": "code",
   "execution_count": 20,
   "id": "60ac2cf6-860e-46d9-a36a-0026f6ee80de",
   "metadata": {},
   "outputs": [
    {
     "data": {
      "text/plain": [
       "2.0"
      ]
     },
     "execution_count": 20,
     "metadata": {},
     "output_type": "execute_result"
    }
   ],
   "source": [
    "#2dsol\n",
    "p=lambda m:m**(1/3)\n",
    "p(8)"
   ]
  },
  {
   "cell_type": "code",
   "execution_count": 28,
   "id": "7535da72-e752-41c9-8fb3-ad7ec33c515c",
   "metadata": {},
   "outputs": [
    {
     "data": {
      "text/plain": [
       "False"
      ]
     },
     "execution_count": 28,
     "metadata": {},
     "output_type": "execute_result"
    }
   ],
   "source": [
    "#2esol\n",
    "even=lambda x:x%2==0\n",
    "even(3)"
   ]
  },
  {
   "cell_type": "code",
   "execution_count": 41,
   "id": "c74e1c03-861e-41f1-9f3c-3bfd1cb0b76c",
   "metadata": {},
   "outputs": [
    {
     "data": {
      "text/plain": [
       "[1, 3, 5, 7, 9]"
      ]
     },
     "execution_count": 41,
     "metadata": {},
     "output_type": "execute_result"
    }
   ],
   "source": [
    "#2fsol\n",
    "kit=[1,2,3,4,5,6,7,8,9,10]\n",
    "c=filter(lambda x:x%2>0, kit)\n",
    "list(c)"
   ]
  },
  {
   "cell_type": "code",
   "execution_count": 53,
   "id": "72615181-45b7-453c-992d-cde9b73a49e0",
   "metadata": {},
   "outputs": [
    {
     "data": {
      "text/plain": [
       "[0, 1, 2, 3, 4, 5, 6]"
      ]
     },
     "execution_count": 53,
     "metadata": {},
     "output_type": "execute_result"
    }
   ],
   "source": [
    "#2gsol\n",
    "lst5=[1,2,3,4,5,6,-1,-2,-3,-4,-5,0]\n",
    "lst5.sort()\n",
    "lstint=[y for y in lst5 if y<0]\n",
    "listint2=[a for a in lst5 if a>=0]\n",
    "lstint\n",
    "listint2"
   ]
  }
 ],
 "metadata": {
  "kernelspec": {
   "display_name": "Python 3 (ipykernel)",
   "language": "python",
   "name": "python3"
  },
  "language_info": {
   "codemirror_mode": {
    "name": "ipython",
    "version": 3
   },
   "file_extension": ".py",
   "mimetype": "text/x-python",
   "name": "python",
   "nbconvert_exporter": "python",
   "pygments_lexer": "ipython3",
   "version": "3.10.8"
  }
 },
 "nbformat": 4,
 "nbformat_minor": 5
}
